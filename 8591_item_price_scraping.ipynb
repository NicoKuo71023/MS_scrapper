{
 "cells": [
  {
   "cell_type": "code",
   "execution_count": 6,
   "metadata": {},
   "outputs": [],
   "source": [
    "# 處理逾時例外的工具\n",
    "from selenium.common.exceptions import TimeoutException\n",
    "\n",
    "# 面對動態網頁，等待某個元素出現的工具，通常與 exptected_conditions 搭配\n",
    "from selenium.webdriver.support.ui import WebDriverWait\n",
    "\n",
    "# 搭配 WebDriverWait 使用，對元素狀態的一種期待條件，若條件發生，則等待結束，往下一行執行\n",
    "from selenium.webdriver.support import expected_conditions as EC\n",
    "\n",
    "# 期待元素出現要透過什麼方式指定，通常與 EC、WebDriverWait 一起使用\n",
    "from selenium.webdriver.common.by import By\n",
    "from selenium import webdriver\n",
    "from pprint import pprint\n",
    "\n",
    "# 強制等待 (執行期間休息一下)\n",
    "from time import sleep\n",
    "# 啟動瀏覽器工具的選項\n",
    "my_options = webdriver.ChromeOptions()\n",
    "# my_options.add_argument(\"--headless\")                #不開啟實體瀏覽器背景執行\n",
    "my_options.add_argument(\"--start-maximized\")         #最大化視窗\n",
    "my_options.add_argument(\"--incognito\")               #開啟無痕模式\n",
    "my_options.add_argument(\"--disable-popup-blocking\") #禁用彈出攔截\n",
    "my_options.add_argument(\"--disable-notifications\")  #取消 chrome 推播通知\n",
    "my_options.add_argument(\"--lang=zh-TW\")  #設定為正體中文\n",
    "# my_service = Service(executable_path=\"./chromedriver.exe\")"
   ]
  },
  {
   "cell_type": "code",
   "execution_count": 7,
   "metadata": {},
   "outputs": [],
   "source": [
    "driver = webdriver.Chrome(\n",
    "        options = my_options,\n",
    "    #     service = my_service\n",
    "    )"
   ]
  },
  {
   "cell_type": "code",
   "execution_count": 8,
   "metadata": {},
   "outputs": [],
   "source": [
    "\n",
    "driver.get(\"https://www.8591.com.tw/\")"
   ]
  },
  {
   "cell_type": "code",
   "execution_count": 18,
   "metadata": {},
   "outputs": [],
   "source": [
    "#輸入遊戲名稱\n",
    "Game_search_name = '新楓之谷'\n",
    "Server_name = '全伺服器'\n",
    "item_type = '全部物品'\n",
    "target_item = '輪迴碑石'\n",
    "market_price = False\n",
    " \n",
    "def searchItem():\n",
    "    driver.find_element(By.CSS_SELECTOR, 'input[placeholder=選擇遊戲]').click()\n",
    "    driver.find_element(By.CSS_SELECTOR, 'input[placeholder=請輸入遊戲名]').send_keys(Game_search_name)\n",
    "\n",
    "    driver.find_element(By.XPATH, f\"//li[text()='{Game_search_name}']\").click()\n",
    "    driver.find_element(By.XPATH, f\"//li[text()='{Server_name}']\").click()\n",
    "    driver.find_element(By.CSS_SELECTOR, 'input[placeholder=物品種類]').click()\n",
    "    driver.find_element(By.XPATH, f\"//li[text()='{item_type}']\").click()\n",
    "    driver.find_element(By.CSS_SELECTOR, 'input[placeholder=標題關鍵字搜尋]').send_keys(target_item)\n",
    "\n",
    "    driver.find_element(By.CSS_SELECTOR, 'div.search-btn').click()\n",
    "\n"
   ]
  },
  {
   "cell_type": "code",
   "execution_count": 37,
   "metadata": {},
   "outputs": [],
   "source": [
    "def MarketPriceOrNot(market_price):\n",
    "    if market_price:\n",
    "        try:\n",
    "            element = WebDriverWait(driver, 10).until(\n",
    "                EC.presence_of_element_located(\n",
    "                (By.CSS_SELECTOR, 'label.com-checkbox')\n",
    "                )  \n",
    "            ) \n",
    "            driver.find_element(By.CSS_SELECTOR, 'label.com-checkbox').click()\n",
    "            \n",
    "        except TimeoutException:\n",
    "            print('TimeoutException: maybe internet problem')"
   ]
  },
  {
   "cell_type": "code",
   "execution_count": 118,
   "metadata": {},
   "outputs": [],
   "source": [
    "from bs4 import BeautifulSoup as bs\n",
    "def collectPrice():\n",
    "    page_source = driver.page_source\n",
    "    soup = bs(page_source, \"lxml\") \n",
    "    # pprint(page_source)\n",
    "    product_name = [item.get_text() for item in soup.select(\"a.mfs\")]\n",
    "    product_id = [item.get(\"href\")[1:-5] for item in soup.select(\"a.mfs\")]\n",
    "    product_price = [int(item.get_text()) for item in soup.select(\"div.list-item-price\")]\n",
    "    sold_count = [int(item.get_text()) for item in soup.select(\"div.list-item-count\")]\n",
    "    sold_date = [item.get_text() for item in soup.select(\"div.list-item-line.list-item-bread > span.ml5\") if item.get_text().strip()]\n",
    "    print(product_id,product_name,product_price, sold_count,sold_date )\n",
    "    print(sold_date)\n",
    "    "
   ]
  },
  {
   "cell_type": "code",
   "execution_count": null,
   "metadata": {},
   "outputs": [],
   "source": [
    "searchItem()\n",
    "MarketPriceOrNot(True)\n",
    "collectPrice()"
   ]
  },
  {
   "cell_type": "code",
   "execution_count": 119,
   "metadata": {},
   "outputs": [
    {
     "name": "stdout",
     "output_type": "stream",
     "text": [
      "['s2239853919', 's2239850219', 's2239849246', 's2239845099', 's2239817490', 's2239842737', 's2239830784', 's2239836655', 's2239836961', 's2239836730', 's2239835775', 's2239832912', 's2239830868', 's2239827205', 's2239824371', 's2239823069', 's2239820347', 's2239819878', 's2239804295', 's2239812659', 's2239811357', 's2239807813', 's2239807770', 's2239803608', 's2239803393', 's2239801513', 's2239799761', 's2239798918', 's2239796526', 's2239795973', 's2239794969', 's2239794287', 's2239785188', 's2239784205', 's2239781950', 's2239780666', 's2239780589', 's2239780616', 's2239771758', 's2239733603'] ['【輪迴碑石】白字輪迴', '【阿輝專賣】輪迴碑石 燃燒戒指 卡單', '【輪迴碑石】輪迴碑石', '【輪迴碑石】輪迴碑石 另售白字 輪迴 碑石 輪燒 燃燒', '【輪迴碑石】有，下午或晚上交易，目前人在外面！能等的話可以下單', '【輪迴碑石】+3敏輪迴 含剪', '【輪迴碑石】已剪', '【阿輝專賣】輪迴碑石 卡單', '【阿輝專賣】輪迴碑石 卡單', '【賣燒】賣輪迴碑石燒戒', '【阿輝專賣】輪迴碑石 卡單', '【輪迴碑石】輪迴碑石', '【輪迴碑石】白字 40000實收 不含刀  含刀+200', '【阿輝專賣】輪迴碑石 卡單', '【阿輝專賣】輪迴碑石 卡單', '【阿輝專賣】輪迴碑石 卡單', '【燃燒戒指】輪迴碑石 另售白字 輪迴 碑石 輪燒 燃燒', '【阿輝專賣】輪迴碑石 卡單', '【輪迴碑石】白字輪迴+燒戒', '【阿輝專賣】輪迴碑石 卡單', '【阿輝專賣】輪迴碑石 卡單', '【輪迴碑石】白字輪迴', '【阿輝專賣】輪迴碑石 卡單', '【阿輝專賣】輪迴碑石 卡單', '【輪迴碑石】輪迴碑石39500實收輪迴輪迴輪迴輪迴輪迴輪迴', '【輪迴碑石】白字輪迴碑石39000實收', '【阿輝專賣】輪迴碑石 卡單', '【阿輝專賣】輪迴碑石 卡單', '【約】輪迴碑石 ⭐政府立案 包售後⭐ 現貨馬上交易', '【阿輝專賣】輪迴碑石 卡單', '【阿輝專賣】輪迴碑石 卡單', '【輪迴碑石】白字輪迴碑石', '【阿輝專賣】輪迴碑石 卡單', '【輪迴碑石】輪迴 白字 含剪', '【輪迴碑石】輪迴碑石', '【阿輝專賣】輪迴碑石 卡單', '【阿輝專賣】輪迴碑石 卡單', '【輪燒】『輪迴碑石、燃燒戒指、輪燒』長期出租輪燒、穩定、歡迎詢問預約', '【阿輝專賣】輪迴碑石+燃燒戒指 卡單', '【輪迴碑石】優質浮動輪 力 幸 輪迴碑石'] [<div class=\"list-item-price txt-center mfs orange fw-600\">42,553元 </div>, <div class=\"list-item-price txt-center mfs orange fw-600\">10元 </div>, <div class=\"list-item-price txt-center mfs orange fw-600\">42,553元 </div>, <div class=\"list-item-price txt-center mfs orange fw-600\">48,404元 </div>, <div class=\"list-item-price txt-center mfs orange fw-600\">43,617元 </div>, <div class=\"list-item-price txt-center mfs orange fw-600\">42,021元 </div>, <div class=\"list-item-price txt-center mfs orange fw-600\">42,500元 </div>, <div class=\"list-item-price txt-center mfs orange fw-600\">56元 </div>, <div class=\"list-item-price txt-center mfs orange fw-600\">10元 </div>, <div class=\"list-item-price txt-center mfs orange fw-600\">4,468元 </div>, <div class=\"list-item-price txt-center mfs orange fw-600\">10元 </div>, <div class=\"list-item-price txt-center mfs orange fw-600\">10元 </div>, <div class=\"list-item-price txt-center mfs orange fw-600\">42,653元 </div>, <div class=\"list-item-price txt-center mfs orange fw-600\">56元 </div>, <div class=\"list-item-price txt-center mfs orange fw-600\">56元 </div>, <div class=\"list-item-price txt-center mfs orange fw-600\">10元 </div>, <div class=\"list-item-price txt-center mfs orange fw-600\">5,319元 </div>, <div class=\"list-item-price txt-center mfs orange fw-600\">10元 </div>, <div class=\"list-item-price txt-center mfs orange fw-600\">45,744元 </div>, <div class=\"list-item-price txt-center mfs orange fw-600\">10元 </div>, <div class=\"list-item-price txt-center mfs orange fw-600\">10元 </div>, <div class=\"list-item-price txt-center mfs orange fw-600\">41,489元 </div>, <div class=\"list-item-price txt-center mfs orange fw-600\">10元 </div>, <div class=\"list-item-price txt-center mfs orange fw-600\">10元 </div>, <div class=\"list-item-price txt-center mfs orange fw-600\">42,021元 </div>, <div class=\"list-item-price txt-center mfs orange fw-600\">41,489元 </div>, <div class=\"list-item-price txt-center mfs orange fw-600\">10元 </div>, <div class=\"list-item-price txt-center mfs orange fw-600\">10元 </div>, <div class=\"list-item-price txt-center mfs orange fw-600\">49,468元 </div>, <div class=\"list-item-price txt-center mfs orange fw-600\">10元 </div>, <div class=\"list-item-price txt-center mfs orange fw-600\">10元 </div>, <div class=\"list-item-price txt-center mfs orange fw-600\">42,000元 </div>, <div class=\"list-item-price txt-center mfs orange fw-600\">10元 </div>, <div class=\"list-item-price txt-center mfs orange fw-600\">42,393元 </div>, <div class=\"list-item-price txt-center mfs orange fw-600\">42,200元 </div>, <div class=\"list-item-price txt-center mfs orange fw-600\">10元 </div>, <div class=\"list-item-price txt-center mfs orange fw-600\">10元 </div>, <div class=\"list-item-price txt-center mfs orange fw-600\">38元 </div>, <div class=\"list-item-price txt-center mfs orange fw-600\">10元 </div>, <div class=\"list-item-price txt-center mfs orange fw-600\">43,617元 </div>] [1, 0, 0, 4, 7, 1, 1, 0, 0, 1, 0, 0, 0, 0, 0, 0, 6, 0, 1, 0, 0, 1, 0, 0, 1, 1, 0, 0, 3, 0, 0, 1, 0, 1, 1, 0, 0, 1, 0, 1] ['08-18 05:25', '08-17 23:14', '08-17 23:08', '08-17 22:39', '08-17 16:55', '08-17 16:39', '08-17 14:06', '08-17 11:35', '08-17 11:07', '08-17 10:22', '08-17 08:50', '08-17 00:08', '08-16 22:47', '08-16 21:13', '08-16 17:43', '08-16 14:56', '08-16 11:31', '08-16 11:05', '08-15 22:48', '08-15 21:18', '08-15 19:48', '08-15 16:36', '08-15 16:32', '08-15 11:31', '08-15 10:57', '08-15 04:14', '08-15 00:00', '08-14 23:15', '08-14 21:25', '08-14 21:24', '08-14 19:37', '08-14 18:58', '08-14 01:22', '08-14 00:24', '08-13 21:38', '08-13 20:50', '08-13 20:36', '08-13 20:24', '08-13 09:16', '08-12 23:29']\n",
      "['08-18 05:25', '08-17 23:14', '08-17 23:08', '08-17 22:39', '08-17 16:55', '08-17 16:39', '08-17 14:06', '08-17 11:35', '08-17 11:07', '08-17 10:22', '08-17 08:50', '08-17 00:08', '08-16 22:47', '08-16 21:13', '08-16 17:43', '08-16 14:56', '08-16 11:31', '08-16 11:05', '08-15 22:48', '08-15 21:18', '08-15 19:48', '08-15 16:36', '08-15 16:32', '08-15 11:31', '08-15 10:57', '08-15 04:14', '08-15 00:00', '08-14 23:15', '08-14 21:25', '08-14 21:24', '08-14 19:37', '08-14 18:58', '08-14 01:22', '08-14 00:24', '08-13 21:38', '08-13 20:50', '08-13 20:36', '08-13 20:24', '08-13 09:16', '08-12 23:29']\n"
     ]
    }
   ],
   "source": [
    "collectPrice()"
   ]
  }
 ],
 "metadata": {
  "kernelspec": {
   "display_name": "web_scraping_workspace",
   "language": "python",
   "name": "python3"
  },
  "language_info": {
   "codemirror_mode": {
    "name": "ipython",
    "version": 3
   },
   "file_extension": ".py",
   "mimetype": "text/x-python",
   "name": "python",
   "nbconvert_exporter": "python",
   "pygments_lexer": "ipython3",
   "version": "3.10.14"
  }
 },
 "nbformat": 4,
 "nbformat_minor": 2
}
