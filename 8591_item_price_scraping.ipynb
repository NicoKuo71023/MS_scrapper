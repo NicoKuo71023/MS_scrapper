{
 "cells": [
  {
   "cell_type": "code",
   "execution_count": 1,
   "metadata": {},
   "outputs": [],
   "source": [
    "# 處理逾時例外的工具\n",
    "from selenium.common.exceptions import TimeoutException\n",
    "\n",
    "# 面對動態網頁，等待某個元素出現的工具，通常與 exptected_conditions 搭配\n",
    "from selenium.webdriver.support.ui import WebDriverWait\n",
    "\n",
    "# 搭配 WebDriverWait 使用，對元素狀態的一種期待條件，若條件發生，則等待結束，往下一行執行\n",
    "from selenium.webdriver.support import expected_conditions as EC\n",
    "\n",
    "# 期待元素出現要透過什麼方式指定，通常與 EC、WebDriverWait 一起使用\n",
    "from selenium.webdriver.common.by import By\n",
    "from selenium import webdriver\n",
    "from pprint import pprint\n",
    "\n",
    "# 強制等待 (執行期間休息一下)\n",
    "from time import sleep\n",
    "# 啟動瀏覽器工具的選項\n",
    "my_options = webdriver.ChromeOptions()\n",
    "# my_options.add_argument(\"--headless\")                #不開啟實體瀏覽器背景執行\n",
    "my_options.add_argument(\"--start-maximized\")         #最大化視窗\n",
    "my_options.add_argument(\"--incognito\")               #開啟無痕模式\n",
    "my_options.add_argument(\"--disable-popup-blocking\") #禁用彈出攔截\n",
    "my_options.add_argument(\"--disable-notifications\")  #取消 chrome 推播通知\n",
    "my_options.add_argument(\"--lang=zh-TW\")  #設定為正體中文\n",
    "# my_service = Service(executable_path=\"./chromedriver.exe\")"
   ]
  },
  {
   "cell_type": "code",
   "execution_count": 2,
   "metadata": {},
   "outputs": [],
   "source": [
    "# 開啟chrome driver\n",
    "driver = webdriver.Chrome(\n",
    "    options = my_options,\n",
    "#     service = my_service\n",
    ")"
   ]
  },
  {
   "cell_type": "code",
   "execution_count": 3,
   "metadata": {},
   "outputs": [],
   "source": [
    "driver.get(\"https://www.8591.com.tw/\")"
   ]
  },
  {
   "cell_type": "code",
   "execution_count": 27,
   "metadata": {},
   "outputs": [],
   "source": [
    "#輸入遊戲名稱\n",
    "Game_search_name = '新楓之谷'\n",
    "Server_name = '全伺服器'\n",
    "item_type = '全部物品'\n",
    "target_item = '輪迴碑石'\n",
    "market_price = False\n",
    " \n",
    "def searchItem(market_price):\n",
    "    driver.find_element(By.CSS_SELECTOR, 'input[placeholder=選擇遊戲]').click()\n",
    "    driver.find_element(By.CSS_SELECTOR, 'input[placeholder=請輸入遊戲名]').send_keys(Game_search_name)\n",
    "\n",
    "    driver.find_element(By.XPATH, f\"//li[text()='{Game_search_name}']\").click()\n",
    "    driver.find_element(By.XPATH, f\"//li[text()='{Server_name}']\").click()\n",
    "    driver.find_element(By.CSS_SELECTOR, 'input[placeholder=物品種類]').click()\n",
    "    driver.find_element(By.XPATH, f\"//li[text()='{item_type}']\").click()\n",
    "    driver.find_element(By.CSS_SELECTOR, 'input[placeholder=標題關鍵字搜尋]').send_keys(target_item)\n",
    "\n",
    "    driver.find_element(By.CSS_SELECTOR, 'div.search-btn').click()\n",
    "    if market_price:\n",
    "        try:\n",
    "            element = WebDriverWait(driver, 10).until(\n",
    "                EC.presence_of_element_located(\n",
    "                (By.CSS_SELECTOR, 'label.com-checkbox')\n",
    "                )\n",
    "            )\n",
    "            driver.find_element(By.CSS_SELECTOR, 'label.com-checkbox > input[type=checkbox]').click()\n",
    "        except TimeoutException:\n",
    "            print('TimeoutException: maybe internet problem')\n"
   ]
  },
  {
   "cell_type": "code",
   "execution_count": 30,
   "metadata": {},
   "outputs": [],
   "source": [
    "from bs4 import BeautifulSoup as bs\n",
    "def collectPrice():\n",
    "    #not done yet\n",
    "    page_source = driver.page_source\n",
    "    soup = bs(page_source, \"lxml\") \n",
    "    # pprint(page_source)"
   ]
  },
  {
   "cell_type": "code",
   "execution_count": null,
   "metadata": {},
   "outputs": [],
   "source": [
    "searchItem(True)\n",
    "collectPrice()"
   ]
  }
 ],
 "metadata": {
  "kernelspec": {
   "display_name": "web_scraping_workspace",
   "language": "python",
   "name": "python3"
  },
  "language_info": {
   "codemirror_mode": {
    "name": "ipython",
    "version": 3
   },
   "file_extension": ".py",
   "mimetype": "text/x-python",
   "name": "python",
   "nbconvert_exporter": "python",
   "pygments_lexer": "ipython3",
   "version": "3.10.14"
  }
 },
 "nbformat": 4,
 "nbformat_minor": 2
}
